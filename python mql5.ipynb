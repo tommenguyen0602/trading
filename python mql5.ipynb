{
 "cells": [
  {
   "cell_type": "code",
   "execution_count": 18,
   "metadata": {},
   "outputs": [
    {
     "data": {
      "text/plain": [
       "True"
      ]
     },
     "execution_count": 18,
     "metadata": {},
     "output_type": "execute_result"
    }
   ],
   "source": [
    "from datetime import datetime\n",
    "import matplotlib.pyplot as plt\n",
    "import pandas as pd\n",
    "from pandas.plotting import register_matplotlib_converters\n",
    "import MetaTrader5 as mt5\n",
    "if not mt5.initialize():\n",
    "    mt5.shutdown()\n",
    "mt5.account_info()\n",
    "ticks = mt5.copy_ticks_from(\"USTEC\", datetime(2023,1,1), 1000, mt5.COPY_TICKS_ALL )\n",
    "from_date=datetime(2020,1,1)\n",
    "to_date=datetime.now()\n",
    "history =mt5.history_deals_total(from_date,to_date)\n",
    "current_position = mt5.positions_get(symbol='USTEC')\n",
    "mt5.shutdown()"
   ]
  },
  {
   "cell_type": "code",
   "execution_count": 19,
   "metadata": {},
   "outputs": [
    {
     "data": {
      "text/plain": [
       "(TradePosition(ticket=650351292, time=1675352188, time_msc=1675352188494, time_update=1675352188, time_update_msc=1675352188494, type=1, magic=0, identifier=650351292, reason=0, volume=0.03, price_open=12741.17, sl=12794.5, tp=12687.84, price_current=12765.55, swap=0.0, profit=-0.73, symbol='USTEC', comment='', external_id=''),)"
      ]
     },
     "execution_count": 19,
     "metadata": {},
     "output_type": "execute_result"
    }
   ],
   "source": [
    "#data\n",
    "ticks_frame = pd.DataFrame(ticks)\n",
    "ticks_frame['time'] = pd.to_datetime(ticks_frame['time'],unit = 's')\n",
    "\n",
    "current_position"
   ]
  }
 ],
 "metadata": {
  "kernelspec": {
   "display_name": "Python 3",
   "language": "python",
   "name": "python3"
  },
  "language_info": {
   "codemirror_mode": {
    "name": "ipython",
    "version": 3
   },
   "file_extension": ".py",
   "mimetype": "text/x-python",
   "name": "python",
   "nbconvert_exporter": "python",
   "pygments_lexer": "ipython3",
   "version": "3.10.5"
  },
  "orig_nbformat": 4,
  "vscode": {
   "interpreter": {
    "hash": "965b1516271401361a3864e11989ac75b31f1f3dc4a6b011ff30d574fca78a83"
   }
  }
 },
 "nbformat": 4,
 "nbformat_minor": 2
}
