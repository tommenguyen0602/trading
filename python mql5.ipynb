{
 "cells": [
  {
   "cell_type": "code",
   "execution_count": 4,
   "metadata": {},
   "outputs": [],
   "source": [
    "from datetime import datetime\n",
    "import matplotlib.pyplot as plt\n",
    "import pandas as pd\n",
    "from pandas.plotting import register_matplotlib_converters\n",
    "import MetaTrader5 as mt5\n",
    "if not mt5.initialize():\n",
    "    mt5.shutdown()\n",
    "mt5.account_info()\n",
    "ticks = mt5.copy_ticks_from(\"USTEC\", datetime(2023,1,1), 1000, mt5.COPY_TICKS_ALL )\n",
    "mt5.shutdown()"
   ]
  },
  {
   "cell_type": "code",
   "execution_count": null,
   "metadata": {},
   "outputs": [],
   "source": [
    "#data\n",
    "ticks_frame = pd.DataFrame(ticks)\n",
    "ticks_frame"
   ]
  }
 ],
 "metadata": {
  "kernelspec": {
   "display_name": "Python 3",
   "language": "python",
   "name": "python3"
  },
  "language_info": {
   "codemirror_mode": {
    "name": "ipython",
    "version": 3
   },
   "file_extension": ".py",
   "mimetype": "text/x-python",
   "name": "python",
   "nbconvert_exporter": "python",
   "pygments_lexer": "ipython3",
   "version": "3.10.5"
  },
  "orig_nbformat": 4,
  "vscode": {
   "interpreter": {
    "hash": "965b1516271401361a3864e11989ac75b31f1f3dc4a6b011ff30d574fca78a83"
   }
  }
 },
 "nbformat": 4,
 "nbformat_minor": 2
}
